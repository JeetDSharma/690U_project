{
 "cells": [
  {
   "cell_type": "code",
   "execution_count": 8,
   "metadata": {},
   "outputs": [],
   "source": [
    "import pandas as pd\n",
    "\n",
    "def csv_to_fasta(csv_file, output_fasta):\n",
    "    df = pd.read_csv(csv_file)\n",
    "    with open(output_fasta, 'w') as f:\n",
    "        for _, row in df.iterrows():\n",
    "            entry = row['Entry']\n",
    "            sequence = row['Sequence']\n",
    "            protien_name = row['Protein names']\n",
    "            # f.write(f'>{entry}\\n{sequence}\\n')\n",
    "            f.write(f'>{entry} | {protien_name}\\n{sequence}\\n')\n",
    "\n",
    "csv_to_fasta('arch_retrieval.csv', 'arch.fasta')\n",
    "csv_to_fasta('euk_retrieval.csv', 'euk.fasta')\n"
   ]
  },
  {
   "cell_type": "code",
   "execution_count": null,
   "metadata": {},
   "outputs": [
    {
     "ename": "SyntaxError",
     "evalue": "invalid syntax (1132907889.py, line 1)",
     "output_type": "error",
     "traceback": [
      "  \u001b[36mCell\u001b[39m\u001b[36m \u001b[39m\u001b[32mIn[2]\u001b[39m\u001b[32m, line 1\u001b[39m\n\u001b[31m    \u001b[39m\u001b[31mmakeblastdb -in arch.fasta -dbtype prot -out arch_db\u001b[39m\n                 ^\n\u001b[31mSyntaxError\u001b[39m\u001b[31m:\u001b[39m invalid syntax\n"
     ]
    }
   ],
   "source": [
    "# makeblastdb -in arch.fasta -dbtype prot -out database/arch_db\n",
    "# makeblastdb -in euk.fasta -dbtype prot -out database/euk_db\n"
   ]
  },
  {
   "cell_type": "code",
   "execution_count": null,
   "metadata": {},
   "outputs": [
    {
     "name": "stderr",
     "output_type": "stream",
     "text": [
      "Warning: [blastp] Query_7757 Q18TV3 | Trime.. : One or more O characters replaced by X for alignment score calculations at positions 330 \n"
     ]
    }
   ],
   "source": [
    "import subprocess\n",
    "\n",
    "def run_blast(query_fasta, db_name, output_file):\n",
    "    cmd = [\n",
    "        \"blastp\",\n",
    "        \"-query\", query_fasta,\n",
    "        \"-db\", db_name,\n",
    "        \"-out\", output_file,\n",
    "        \"-outfmt\", \"6 qseqid sseqid evalue bitscore\",\n",
    "        \"-evalue\", \"1e-3\",\n",
    "        \"-max_target_seqs\", \"5\"\n",
    "    ]\n",
    "    subprocess.run(cmd)\n",
    "\n",
    "scoring_matrix = [\"BLOSUM62\", \"BLOSUM80\", \"PAM30\", \"PAM70\"]\n",
    "run_blast(\"arch.fasta\", \"database/arch_db\", \"arch_blast_results.txt\")\n",
    "run_blast(\"euk.fasta\", \"database/euk_db\", \"euk_blast_results.txt\")\n"
   ]
  },
  {
   "cell_type": "code",
   "execution_count": 11,
   "metadata": {},
   "outputs": [],
   "source": [
    "from collections import defaultdict\n",
    "\n",
    "def load_annotations(csv_file):\n",
    "    df = pd.read_csv(csv_file)\n",
    "    return dict(zip(df['Entry'], df['Protein names']))\n",
    "\n",
    "# def load_blast_results(blast_file):\n",
    "#     results = defaultdict(list)\n",
    "#     with open(blast_file, 'r') as f:\n",
    "#         for line in f:\n",
    "#             qid, sid, *_ = line.strip().split()\n",
    "#             if qid != sid:\n",
    "#                 results[qid].append(sid)\n",
    "#     return results\n",
    "\n",
    "def load_blast_results(blast_file, top_k=None):\n",
    "    results = defaultdict(list)\n",
    "\n",
    "    with open(blast_file, 'r') as f:\n",
    "        for line in f:\n",
    "            parts = line.strip().split()\n",
    "            if len(parts) < 4:\n",
    "                continue\n",
    "            qid, sid, evalue, bitscore = parts[0], parts[1], float(parts[2]), float(parts[3])\n",
    "            if qid != sid:\n",
    "                results[qid].append({\n",
    "                    \"sid\": sid,\n",
    "                    \"bitscore\": bitscore,\n",
    "                    \"evalue\": evalue\n",
    "                })\n",
    "\n",
    "    for qid in results:\n",
    "        results[qid].sort(key=lambda x: x[\"bitscore\"], reverse=True)\n",
    "        if top_k:\n",
    "            results[qid] = results[qid][:top_k]\n",
    "\n",
    "    return results"
   ]
  },
  {
   "cell_type": "code",
   "execution_count": null,
   "metadata": {},
   "outputs": [],
   "source": [
    "# def compute_metrics_at_5(blast_results, annotations):\n",
    "#     total_ap = 0\n",
    "#     total_precision = 0\n",
    "#     total_recall = 0\n",
    "#     valid_queries = 0\n",
    "\n",
    "#     # Create a reverse mapping: label → all entries with that label\n",
    "#     label_to_entries = defaultdict(set)\n",
    "#     for entry, label in annotations.items():\n",
    "#         label_to_entries[label].add(entry)\n",
    "\n",
    "#     for query, retrieved in blast_results.items():\n",
    "#         if query not in annotations:\n",
    "#             continue\n",
    "\n",
    "#         query_label = annotations[query]\n",
    "#         correct_set = label_to_entries[query_label] - {query}\n",
    "#         relevant = [sid for sid in retrieved if sid in correct_set]\n",
    "\n",
    "#         # Precision@5: correct / total retrieved\n",
    "#         precision = len(relevant) / 5\n",
    "\n",
    "#         # Recall@5: correct / all possible correct (excluding self)\n",
    "#         recall = len(relevant) / len(correct_set) if correct_set else 0\n",
    "\n",
    "#         # MAP@5\n",
    "#         binary_relevance = [sid in correct_set for sid in retrieved]\n",
    "#         precisions = [\n",
    "#             sum(binary_relevance[:i+1]) / (i+1)\n",
    "#             for i, rel in enumerate(binary_relevance) if rel\n",
    "#         ]\n",
    "#         ap = sum(precisions) / min(5, len(correct_set)) if precisions else 0\n",
    "\n",
    "#         total_ap += ap\n",
    "#         total_precision += precision\n",
    "#         total_recall += recall\n",
    "#         valid_queries += 1\n",
    "\n",
    "#     if valid_queries == 0:\n",
    "#         return 0, 0, 0\n",
    "\n",
    "#     return (\n",
    "#         total_ap / valid_queries,\n",
    "#         total_precision / valid_queries,\n",
    "#         total_recall / valid_queries\n",
    "#     )\n"
   ]
  },
  {
   "cell_type": "code",
   "execution_count": 19,
   "metadata": {},
   "outputs": [],
   "source": [
    "from collections import defaultdict\n",
    "\n",
    "def compute_map_at_5(blast_results, annotations):\n",
    "    label_to_entries = defaultdict(set)\n",
    "    for entry, label in annotations.items():\n",
    "        label_to_entries[label].add(entry)\n",
    "\n",
    "    total_ap = 0\n",
    "    valid_queries = 0\n",
    "\n",
    "    for query, hits in blast_results.items():\n",
    "        if query not in annotations:\n",
    "            print(f\"Query {query} not found in annotations.\")\n",
    "            continue\n",
    "\n",
    "        query_label = annotations[query]\n",
    "        true_positives = label_to_entries[query_label] - {query}\n",
    "        if not true_positives:\n",
    "            continue\n",
    "\n",
    "        binary_relevance = [(hit[\"sid\"] in true_positives) for hit in hits[:5]]\n",
    "        if not any(binary_relevance):\n",
    "            valid_queries += 1\n",
    "            continue\n",
    "\n",
    "        precisions = [\n",
    "            sum(binary_relevance[:i+1]) / (i+1)\n",
    "            for i, rel in enumerate(binary_relevance) if rel\n",
    "        ]\n",
    "\n",
    "        ap = sum(precisions) / min(5, len(true_positives))\n",
    "        total_ap += ap\n",
    "        valid_queries += 1\n",
    "\n",
    "    return total_ap / valid_queries \n"
   ]
  },
  {
   "cell_type": "code",
   "execution_count": 18,
   "metadata": {},
   "outputs": [
    {
     "name": "stdout",
     "output_type": "stream",
     "text": [
      "No true positives for query P96110.\n",
      "No true positives for query Q88VW2.\n",
      "No true positives for query P54386.\n",
      "No true positives for query Q24YW4.\n",
      "No true positives for query Q7N8D4.\n",
      "No true positives for query Q8ABV5.\n",
      "MAP@5 for Eukaryotes: 0.8007\n"
     ]
    }
   ],
   "source": [
    "euk_annot = load_annotations(\"euk_retrieval.csv\")\n",
    "euk_blast = load_blast_results(\"euk_blast_results.txt\")\n",
    "\n",
    "map5 = compute_map_at_5(euk_blast, euk_annot)\n",
    "\n",
    "\n",
    "\n",
    "print(f\"MAP@5 for Eukaryotes: {map5:.4f}\")\n",
    "# print(f\"Precision@5 for Eukaryotes: {p5:.4f}\")\n",
    "# print(f\"Recall@5 for Eukaryotes: {r5:.4f}\")\n"
   ]
  }
 ],
 "metadata": {
  "kernelspec": {
   "display_name": ".venv",
   "language": "python",
   "name": "python3"
  },
  "language_info": {
   "codemirror_mode": {
    "name": "ipython",
    "version": 3
   },
   "file_extension": ".py",
   "mimetype": "text/x-python",
   "name": "python",
   "nbconvert_exporter": "python",
   "pygments_lexer": "ipython3",
   "version": "3.13.2"
  }
 },
 "nbformat": 4,
 "nbformat_minor": 2
}
