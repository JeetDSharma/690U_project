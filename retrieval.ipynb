{
 "cells": [
  {
   "cell_type": "code",
   "execution_count": null,
   "metadata": {},
   "outputs": [
    {
     "name": "stdout",
     "output_type": "stream",
     "text": [
      "[INFO] FASTA written to: fasta_files/arch.fasta\n",
      "[INFO] FASTA written to: fasta_files/euk.fasta\n"
     ]
    }
   ],
   "source": [
    "import pandas as pd\n",
    "import os\n",
    "def csv_to_fasta(csv_file, output_fasta):\n",
    "    try:\n",
    "        df = pd.read_csv(csv_file)\n",
    "        if not os.path.exists('fasta_files'):\n",
    "            os.makedirs('fasta_files')\n",
    "        with open(output_fasta, 'w') as f:\n",
    "            for _, row in df.iterrows():\n",
    "                entry = str(row.get('Entry', '')).strip()\n",
    "                sequence = str(row.get('Sequence', '')).strip()\n",
    "                protein_name = str(row.get('Protein names', '')).strip()\n",
    "\n",
    "                header = f\"{entry} | {protein_name}\".replace('\\n', ' ').replace('\\r', ' ')\n",
    "                f.write(f'>{header}\\n{sequence}\\n')\n",
    "        print(f\"[INFO] FASTA written to: {output_fasta}\")\n",
    "    except Exception as e:\n",
    "        print(f\"[ERROR] Failed to convert {csv_file} to FASTA: {e}\")\n",
    "\n",
    "csv_to_fasta('datasets/arch_retrieval.csv', 'fasta_files/arch.fasta')\n",
    "csv_to_fasta('datasets/euk_retrieval.csv', 'fasta_files/euk.fasta')\n"
   ]
  },
  {
   "cell_type": "code",
   "execution_count": null,
   "metadata": {},
   "outputs": [
    {
     "name": "stdout",
     "output_type": "stream",
     "text": [
      "Ground truth mapping saved to: datasets/arch_ground_truth.json\n",
      "Ground truth mapping saved to: datasets/euk_ground_truth.json\n"
     ]
    }
   ],
   "source": [
    "import pandas as pd\n",
    "from collections import defaultdict\n",
    "import os\n",
    "import json\n",
    "\n",
    "def generate_ground_truth_mapping(input_path, output_filename):\n",
    "    try:\n",
    "        df = pd.read_csv(input_path)\n",
    "    except Exception as e:\n",
    "        print(f\"Error reading file: {e}\")\n",
    "        return\n",
    "\n",
    "    if not {'Entry', 'Protein names'}.issubset(df.columns):\n",
    "        print(\"Input file must contain 'Entry' and 'Protein names' columns.\")\n",
    "        return\n",
    "\n",
    "    protein_to_entries = defaultdict(list)\n",
    "    for _, row in df.iterrows():\n",
    "        protein_to_entries[row['Protein names']].append(row['Entry'])\n",
    "\n",
    "    relevance_data = []\n",
    "    for _, row in df.iterrows():\n",
    "        qid = row['Entry']\n",
    "        relevant_ids = [\n",
    "            entry_id for entry_id in protein_to_entries[row['Protein names']]\n",
    "            if entry_id != qid\n",
    "        ]\n",
    "        relevance_data.append({\n",
    "            'qid': qid,\n",
    "            'relevant_sqids': relevant_ids  \n",
    "        })\n",
    "\n",
    "    output_path = os.path.join(os.path.dirname(input_path), output_filename)\n",
    "    with open(output_path, 'w') as f:\n",
    "        json.dump(relevance_data, f, indent=2)\n",
    "    print(f\"Ground truth mapping saved to: {output_path}\")\n",
    "\n",
    "generate_ground_truth_mapping(\"datasets/arch_retrieval.csv\", \"arch_ground_truth.json\")\n",
    "generate_ground_truth_mapping(\"datasets/euk_retrieval.csv\", \"euk_ground_truth.json\")\n"
   ]
  },
  {
   "cell_type": "code",
   "execution_count": null,
   "metadata": {},
   "outputs": [
    {
     "ename": "SyntaxError",
     "evalue": "invalid syntax (1132907889.py, line 1)",
     "output_type": "error",
     "traceback": [
      "  \u001b[36mCell\u001b[39m\u001b[36m \u001b[39m\u001b[32mIn[2]\u001b[39m\u001b[32m, line 1\u001b[39m\n\u001b[31m    \u001b[39m\u001b[31mmakeblastdb -in arch.fasta -dbtype prot -out arch_db\u001b[39m\n                 ^\n\u001b[31mSyntaxError\u001b[39m\u001b[31m:\u001b[39m invalid syntax\n"
     ]
    }
   ],
   "source": [
    "# makeblastdb -in arch.fasta -dbtype prot -out database/arch_db\n",
    "# makeblastdb -in euk.fasta -dbtype prot -out database/euk_db\n"
   ]
  },
  {
   "cell_type": "code",
   "execution_count": null,
   "metadata": {},
   "outputs": [
    {
     "name": "stderr",
     "output_type": "stream",
     "text": [
      "Warning: [blastp] Query_7757 Q18TV3 | Trime.. : One or more O characters replaced by X for alignment score calculations at positions 330 \n"
     ]
    }
   ],
   "source": [
    "import subprocess\n",
    "\n",
    "def run_blast(query_fasta, db_name, output_file):\n",
    "    cmd = [\n",
    "        \"blastp\",\n",
    "        \"-query\", query_fasta,\n",
    "        \"-db\", db_name,\n",
    "        \"-out\", output_file,\n",
    "        \"-outfmt\", \"6 qseqid sseqid evalue bitscore\",\n",
    "        \"-evalue\", \"1e-3\",\n",
    "        \"-max_target_seqs\", \"5\"\n",
    "    ]\n",
    "    subprocess.run(cmd)\n",
    "\n",
    "scoring_matrix = [\"BLOSUM62\", \"BLOSUM80\", \"PAM30\", \"PAM70\"]\n",
    "run_blast(\"arch.fasta\", \"database/arch_db\", \"arch_blast_results.txt\")\n",
    "run_blast(\"euk.fasta\", \"database/euk_db\", \"euk_blast_results.txt\")\n"
   ]
  },
  {
   "cell_type": "code",
   "execution_count": 52,
   "metadata": {},
   "outputs": [],
   "source": [
    "from collections import defaultdict\n",
    "\n",
    "def load_annotations(csv_file):\n",
    "    df = pd.read_csv(csv_file)\n",
    "    return dict(zip(df['Entry'], df['Protein names']))\n",
    "\n",
    "def load_blast_results(blast_file):\n",
    "    results = defaultdict(list)\n",
    "    with open(blast_file, 'r') as f:\n",
    "        for line in f:\n",
    "            qid, sid, *_ = line.strip().split()\n",
    "            if qid != sid:\n",
    "                results[qid].append(sid)\n",
    "    return results\n"
   ]
  }
 ],
 "metadata": {
  "kernelspec": {
   "display_name": ".venv",
   "language": "python",
   "name": "python3"
  },
  "language_info": {
   "codemirror_mode": {
    "name": "ipython",
    "version": 3
   },
   "file_extension": ".py",
   "mimetype": "text/x-python",
   "name": "python",
   "nbconvert_exporter": "python",
   "pygments_lexer": "ipython3",
   "version": "3.13.2"
  }
 },
 "nbformat": 4,
 "nbformat_minor": 2
}
